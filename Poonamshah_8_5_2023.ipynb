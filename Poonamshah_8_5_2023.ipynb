{
  "nbformat": 4,
  "nbformat_minor": 0,
  "metadata": {
    "colab": {
      "provenance": [],
      "authorship_tag": "ABX9TyNXeJGtt8SNJHpC47/3W2W6",
      "include_colab_link": true
    },
    "kernelspec": {
      "name": "python3",
      "display_name": "Python 3"
    },
    "language_info": {
      "name": "python"
    }
  },
  "cells": [
    {
      "cell_type": "markdown",
      "metadata": {
        "id": "view-in-github",
        "colab_type": "text"
      },
      "source": [
        "<a href=\"https://colab.research.google.com/github/poonam9490/Data-Preprocessing-in-Python/blob/main/Poonamshah_8_5_2023.ipynb\" target=\"_parent\"><img src=\"https://colab.research.google.com/assets/colab-badge.svg\" alt=\"Open In Colab\"/></a>"
      ]
    },
    {
      "cell_type": "markdown",
      "source": [],
      "metadata": {
        "id": "eIAg1QVy_eSk"
      }
    },
    {
      "cell_type": "code",
      "source": [],
      "metadata": {
        "id": "_xLHRW5t_jeX"
      },
      "execution_count": null,
      "outputs": []
    },
    {
      "cell_type": "markdown",
      "source": [
        "Part 0: question"
      ],
      "metadata": {
        "id": "3PLZOyqrDmUd"
      }
    },
    {
      "cell_type": "markdown",
      "source": [
        "How many people would buy the premium face mask which is scientifically proven to be better than N95 of around 1000.rs in India? Explain how did you conclude this answer and what was your approach towards this question in brief\n"
      ],
      "metadata": {
        "id": "r8wtWu_S_nsZ"
      }
    },
    {
      "cell_type": "code",
      "source": [],
      "metadata": {
        "id": "pi7cA5sj_pYS"
      },
      "execution_count": null,
      "outputs": []
    },
    {
      "cell_type": "markdown",
      "source": [
        "part 0: answer"
      ],
      "metadata": {
        "id": "a572bRnpDrDZ"
      }
    },
    {
      "cell_type": "markdown",
      "source": [
        "around 25% people would buy the premium face mask which is scientifically proven to be better than N95 of around 1000.rs in India.\n",
        "because people were afraid of covid situation and they thoght of saving lifes during covid 90,many people lost their job.so most of middle class people were using maximum of 100 rs masks.only rich people might afford 1000 rs mask."
      ],
      "metadata": {
        "id": "IuvGjjgS_qHd"
      }
    },
    {
      "cell_type": "code",
      "source": [],
      "metadata": {
        "id": "tHZpKxLDDkav"
      },
      "execution_count": null,
      "outputs": []
    },
    {
      "cell_type": "markdown",
      "source": [
        "Part 1: Descriptive Analysis\n",
        "What type of company this dataset belongs to? \n",
        "Suppose that this dataset is for a website like Flipkart, what could be the possible definitions of the columns Level(visitors) 1, 2, 3, 4 and 5 in the given dataset? Do you observe any pattern?\n",
        "Give a pivot view summary and suitable visualization to answer the following question: \n",
        "What was the total number of visitors segmented by each level, every month in each year?\n",
        "What is the percentage difference in the number of visitors between different regions and years? \n",
        "Look out for outliers and if there is any, use your preferred way to handle them. Use visualization to showcase outliers before and after treating them. \n"
      ],
      "metadata": {
        "id": "f8zdtMUiDu3w"
      }
    },
    {
      "cell_type": "code",
      "source": [],
      "metadata": {
        "id": "1Fg7shUSD5Ft"
      },
      "execution_count": null,
      "outputs": []
    },
    {
      "cell_type": "markdown",
      "source": [
        "part 1: answer\n",
        "\n",
        "1. this database belongs to some e-commerce visiters with different category data for december month in past 3 years(i.e 2022,2021,2020) \n",
        "\n",
        "2.find pivot summary and visual representation in this link:\n",
        "https://docs.google.com/spreadsheets/d/1Kxt6qpVYpwNyC-Ml2mRJjroJmqwR4Hwo/edit#gid=183444130\n",
        "\n",
        "total visitiors details:![image.png](data:image/png;base64,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)\n",
        "\n",
        "percentage difference:\n",
        "2020-41%\n",
        "2021-26%\n",
        "2022-32%\n",
        "\n",
        "i dont see any outliers."
      ],
      "metadata": {
        "id": "c6gU13tFD71M"
      }
    },
    {
      "cell_type": "code",
      "source": [],
      "metadata": {
        "id": "ZBHh5KaILyjZ"
      },
      "execution_count": null,
      "outputs": []
    },
    {
      "cell_type": "markdown",
      "source": [
        "Part 2: Prescriptive Analysis (give clear comments for the codes)\n",
        "Transpose the data into a view as the reference given, ( numbers presented here are not precise )\n",
        "\n",
        " Assume you are a data analyst at Fittlyf company, analyze the data for the region performing worst in all the years and prescribe what could be the reason and how to improve the number of visitors from that region.\n",
        "Based on the given data, identify which region is having a better YearOnYear growth.\n",
        "Guess what could be the meaning of Level1 visitors, level 2 visitors up to level 5 and then answer the following- \n",
        "Create a new feature (Level 5 visitors/Level 1 visitors) and what are the top 3 states based on that created feature for all the available segments and each given year. \n",
        "Create any other metric apart from (Level5 visitors/Level1 visitors) and perform the same task as above. Compare if the states are same in both the questions, if they are different try to create a hypothesis about the reason behind it.\n"
      ],
      "metadata": {
        "id": "p7SxidqmL_CY"
      }
    },
    {
      "cell_type": "markdown",
      "source": [
        "Answer:\n",
        "\n",
        "https://docs.google.com/spreadsheets/d/1Kxt6qpVYpwNyC-Ml2mRJjroJmqwR4Hwo/edit#gid=189577529\n",
        "\n",
        "1. aurangabad and faridabad performs worst all years they have constant visitors throght the same year.\n",
        "2.uddepy,ujjain and dehradun has better year on year growth.\n",
        "\n",
        "3. after creating new feature (Level 5 visitors/Level 1 visitors) top 3 states are all(barely the result change)\n",
        "\n",
        "4.after adding 1 more feature new feature (Level 4 visitors/Level 2 visitors) top 3 states are all(same result)\n",
        "\n"
      ],
      "metadata": {
        "id": "YJ3Anfu3N6gr"
      }
    },
    {
      "cell_type": "code",
      "source": [],
      "metadata": {
        "id": "PJo7h8U7QK6U"
      },
      "execution_count": null,
      "outputs": []
    },
    {
      "cell_type": "markdown",
      "source": [
        "Part 3: Prediction (give clear comments for the codes)\n",
        "Write a function called predict_future(‘Region’,’Segment’) which, when called, would perform the following activity:\n",
        "Predict “Level 5” future values for the next 6 months, given the parameters of the function. (Please make sure the parameters have default values in place) Also, plot it.\n",
        "Generates the MAPE and RMSE of your prediction of the year 2022, 2021 & 2020 for the given parameters.\n",
        "Plot a line graph of the level 5 actual numbers from 2020-2022 & in the same graph, there should be the predicted numbers for 2023. The x-axis should be the timeline from 2020 Jan to 2023 Jun and the y-axis should be the value of the level 5 column and predicted values. The below graph is just an example of how your plot should look like. You may use Rolling Average and ARIMA for forecasting. (link for reference: \n",
        "https://youtu.be/jiQM93dmUek)\n",
        "\n"
      ],
      "metadata": {
        "id": "KwZ7XLxLRBGK"
      }
    },
    {
      "cell_type": "code",
      "source": [],
      "metadata": {
        "id": "d-Q-DXzbRCgS"
      },
      "execution_count": null,
      "outputs": []
    },
    {
      "cell_type": "markdown",
      "source": [
        "answer: knowledge of power bi requiered in this. I dont know power bi..i need to learn."
      ],
      "metadata": {
        "id": "s450YY_1SBPh"
      }
    },
    {
      "cell_type": "markdown",
      "source": [
        "Part 4: A/B testing (give clear comments for the codes)\n",
        "Using “AB_TEST” sheet in the shared excel file, what is the possible metric you can create for A/B testing excluding no. of clicks and no. of visitors.\n",
        " (Any derived metric from the given no.of clicks and visitors ) – link for refrence\n",
        "\n",
        "Perform an AB testing to find which variation whether control or treatment is better.\n",
        "https://docs.google.com/spreadsheets/d/1Kxt6qpVYpwNyC-Ml2mRJjroJmqwR4Hwo/edit#gid=611437624\n",
        "\n",
        "answer:\n",
        "derived metric is device type versis date can the metric excluding no. of clicks and no. of visitors.\n",
        "\n"
      ],
      "metadata": {
        "id": "yaMi_drERNdx"
      }
    },
    {
      "cell_type": "code",
      "source": [],
      "metadata": {
        "id": "QVrmkWS_RRDk"
      },
      "execution_count": null,
      "outputs": []
    }
  ]
}